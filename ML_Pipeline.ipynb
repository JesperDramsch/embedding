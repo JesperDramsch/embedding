{
 "cells": [
  {
   "cell_type": "code",
   "execution_count": 53,
   "metadata": {
    "collapsed": true
   },
   "outputs": [],
   "source": [
    "%load_ext autoreload\n",
    "%autoreload 2"
   ]
  },
  {
   "cell_type": "code",
   "execution_count": 54,
   "metadata": {},
   "outputs": [],
   "source": [
    "import pandas as pd\n",
    "import numpy as np\n",
    "import matplotlib.pyplot as plt"
   ]
  },
  {
   "cell_type": "code",
   "execution_count": 55,
   "metadata": {
    "collapsed": true
   },
   "outputs": [],
   "source": [
    "from classifier_choice import *"
   ]
  },
  {
   "cell_type": "code",
   "execution_count": 69,
   "metadata": {},
   "outputs": [],
   "source": [
    "from well_load import *"
   ]
  },
  {
   "cell_type": "code",
   "execution_count": 56,
   "metadata": {},
   "outputs": [],
   "source": [
    "digits = datasets.load_digits()"
   ]
  },
  {
   "cell_type": "code",
   "execution_count": 57,
   "metadata": {},
   "outputs": [],
   "source": [
    "data = digits.data\n",
    "labels = digits.target"
   ]
  },
  {
   "cell_type": "code",
   "execution_count": 58,
   "metadata": {
    "collapsed": true
   },
   "outputs": [],
   "source": [
    "n_samples, n_features = data.shape"
   ]
  },
  {
   "cell_type": "code",
   "execution_count": 59,
   "metadata": {},
   "outputs": [],
   "source": [
    "methods = [ 'pca', 'isomap', 'lle', 'mlle', 'hlle', 'ltsa', 'mds', 'trees','tsne']"
   ]
  },
  {
   "cell_type": "code",
   "execution_count": 99,
   "metadata": {
    "collapsed": true
   },
   "outputs": [],
   "source": [
    "from matplotlib import offsetbox\n",
    "def plot_embedding(X, y, title=None):\n",
    "    x_min, x_max = np.min(X, 0), np.max(X, 0)\n",
    "    X = (X - x_min) / (x_max - x_min)\n",
    "\n",
    "    plt.figure(figsize=(20,15))\n",
    "    ax = plt.subplot(111)\n",
    "    for i in range(X.shape[0]):\n",
    "        plt.text(X[i, 0], X[i, 1], str(digits.target[i]),\n",
    "                 color=plt.cm.Set1(y[i] / 10.),\n",
    "                 fontdict={'weight': 'bold', 'size': 9})\n",
    "\n",
    "    if hasattr(offsetbox, 'AnnotationBbox'):\n",
    "        # only print thumbnails with matplotlib > 1.0\n",
    "        shown_images = np.array([[1., 1.]])  # just something big\n",
    "        for i in range(digits.data.shape[0]):\n",
    "            dist = np.sum((X[i] - shown_images) ** 2, 1)\n",
    "            if np.min(dist) < 4e-3:\n",
    "                # don't show points that are too close\n",
    "                continue\n",
    "            shown_images = np.r_[shown_images, [X[i]]]\n",
    "            imagebox = offsetbox.AnnotationBbox(\n",
    "                offsetbox.OffsetImage(digits.images[i], cmap=plt.cm.gray_r),\n",
    "                X[i])\n",
    "            ax.add_artist(imagebox)\n",
    "    plt.xticks([]), plt.yticks([])\n",
    "    if title is not None:\n",
    "        plt.title(title)"
   ]
  },
  {
   "cell_type": "code",
   "execution_count": null,
   "metadata": {
    "scrolled": true
   },
   "outputs": [],
   "source": [
    "for mathod in methods:\n",
    "    clf = classifier_choice(mathod)\n",
    "    clusters = data_fit(clf,data)\n",
    "    plot_embedding(clusters,labels,mathod)\n",
    "plt.show()"
   ]
  },
  {
   "cell_type": "code",
   "execution_count": 73,
   "metadata": {
    "scrolled": false
   },
   "outputs": [
    {
     "data": {
      "text/html": [
       "<div>\n",
       "<style scoped>\n",
       "    .dataframe tbody tr th:only-of-type {\n",
       "        vertical-align: middle;\n",
       "    }\n",
       "\n",
       "    .dataframe tbody tr th {\n",
       "        vertical-align: top;\n",
       "    }\n",
       "\n",
       "    .dataframe thead th {\n",
       "        text-align: right;\n",
       "    }\n",
       "</style>\n",
       "<table border=\"1\" class=\"dataframe\">\n",
       "  <thead>\n",
       "    <tr style=\"text-align: right;\">\n",
       "      <th></th>\n",
       "      <th>DEN</th>\n",
       "      <th>DT</th>\n",
       "      <th>DTS</th>\n",
       "      <th>DTS_I7</th>\n",
       "      <th>DTS_MLFILLED</th>\n",
       "      <th>GR</th>\n",
       "      <th>LITHESA10</th>\n",
       "      <th>LITHESA9_FILTR</th>\n",
       "      <th>LITHESA9_I4</th>\n",
       "      <th>LITHESA9_I8</th>\n",
       "      <th>LITHESA9_I8I4</th>\n",
       "      <th>NPHI</th>\n",
       "      <th>PHIE_I7</th>\n",
       "      <th>PHIE_I8I7</th>\n",
       "      <th>PHIE_MLFILLED</th>\n",
       "      <th>RDEP</th>\n",
       "      <th>RMED</th>\n",
       "      <th>Well</th>\n",
       "      <th>TD</th>\n",
       "    </tr>\n",
       "  </thead>\n",
       "  <tbody>\n",
       "    <tr>\n",
       "      <th>0</th>\n",
       "      <td>2.001409</td>\n",
       "      <td>155.183043</td>\n",
       "      <td>481.094017</td>\n",
       "      <td>519.064866</td>\n",
       "      <td>481.094017</td>\n",
       "      <td>10.481200</td>\n",
       "      <td>5891.0</td>\n",
       "      <td>5891.0</td>\n",
       "      <td>5868.0</td>\n",
       "      <td>5891.0</td>\n",
       "      <td>5868.0</td>\n",
       "      <td>0.722802</td>\n",
       "      <td>0.05792</td>\n",
       "      <td>0.05792</td>\n",
       "      <td>0.05792</td>\n",
       "      <td>0.664799</td>\n",
       "      <td>0.518799</td>\n",
       "      <td>16_7-10.las</td>\n",
       "      <td>160.22121</td>\n",
       "    </tr>\n",
       "    <tr>\n",
       "      <th>1</th>\n",
       "      <td>2.001409</td>\n",
       "      <td>155.183043</td>\n",
       "      <td>481.094017</td>\n",
       "      <td>519.064866</td>\n",
       "      <td>481.094017</td>\n",
       "      <td>10.702790</td>\n",
       "      <td>5891.0</td>\n",
       "      <td>5891.0</td>\n",
       "      <td>5868.0</td>\n",
       "      <td>5891.0</td>\n",
       "      <td>5868.0</td>\n",
       "      <td>0.722802</td>\n",
       "      <td>0.05792</td>\n",
       "      <td>0.05792</td>\n",
       "      <td>0.05792</td>\n",
       "      <td>0.664799</td>\n",
       "      <td>0.518799</td>\n",
       "      <td>16_7-10.las</td>\n",
       "      <td>160.37361</td>\n",
       "    </tr>\n",
       "    <tr>\n",
       "      <th>2</th>\n",
       "      <td>2.001409</td>\n",
       "      <td>155.183043</td>\n",
       "      <td>481.094017</td>\n",
       "      <td>519.064866</td>\n",
       "      <td>481.094017</td>\n",
       "      <td>10.547792</td>\n",
       "      <td>5891.0</td>\n",
       "      <td>5891.0</td>\n",
       "      <td>5868.0</td>\n",
       "      <td>5891.0</td>\n",
       "      <td>5868.0</td>\n",
       "      <td>0.722802</td>\n",
       "      <td>0.05792</td>\n",
       "      <td>0.05792</td>\n",
       "      <td>0.05792</td>\n",
       "      <td>0.664799</td>\n",
       "      <td>0.518799</td>\n",
       "      <td>16_7-10.las</td>\n",
       "      <td>160.52601</td>\n",
       "    </tr>\n",
       "    <tr>\n",
       "      <th>3</th>\n",
       "      <td>2.001409</td>\n",
       "      <td>155.183043</td>\n",
       "      <td>481.094017</td>\n",
       "      <td>519.064866</td>\n",
       "      <td>481.094017</td>\n",
       "      <td>10.420900</td>\n",
       "      <td>5891.0</td>\n",
       "      <td>5891.0</td>\n",
       "      <td>5868.0</td>\n",
       "      <td>5891.0</td>\n",
       "      <td>5868.0</td>\n",
       "      <td>0.722802</td>\n",
       "      <td>0.05792</td>\n",
       "      <td>0.05792</td>\n",
       "      <td>0.05792</td>\n",
       "      <td>0.664799</td>\n",
       "      <td>0.518799</td>\n",
       "      <td>16_7-10.las</td>\n",
       "      <td>160.67841</td>\n",
       "    </tr>\n",
       "    <tr>\n",
       "      <th>4</th>\n",
       "      <td>2.001409</td>\n",
       "      <td>155.183043</td>\n",
       "      <td>481.094017</td>\n",
       "      <td>519.064866</td>\n",
       "      <td>481.094017</td>\n",
       "      <td>11.238597</td>\n",
       "      <td>5891.0</td>\n",
       "      <td>5891.0</td>\n",
       "      <td>5868.0</td>\n",
       "      <td>5891.0</td>\n",
       "      <td>5868.0</td>\n",
       "      <td>0.722802</td>\n",
       "      <td>0.05792</td>\n",
       "      <td>0.05792</td>\n",
       "      <td>0.05792</td>\n",
       "      <td>0.664799</td>\n",
       "      <td>0.518799</td>\n",
       "      <td>16_7-10.las</td>\n",
       "      <td>160.83081</td>\n",
       "    </tr>\n",
       "  </tbody>\n",
       "</table>\n",
       "</div>"
      ],
      "text/plain": [
       "        DEN          DT         DTS      DTS_I7  DTS_MLFILLED         GR  \\\n",
       "0  2.001409  155.183043  481.094017  519.064866    481.094017  10.481200   \n",
       "1  2.001409  155.183043  481.094017  519.064866    481.094017  10.702790   \n",
       "2  2.001409  155.183043  481.094017  519.064866    481.094017  10.547792   \n",
       "3  2.001409  155.183043  481.094017  519.064866    481.094017  10.420900   \n",
       "4  2.001409  155.183043  481.094017  519.064866    481.094017  11.238597   \n",
       "\n",
       "   LITHESA10  LITHESA9_FILTR  LITHESA9_I4  LITHESA9_I8  LITHESA9_I8I4  \\\n",
       "0     5891.0          5891.0       5868.0       5891.0         5868.0   \n",
       "1     5891.0          5891.0       5868.0       5891.0         5868.0   \n",
       "2     5891.0          5891.0       5868.0       5891.0         5868.0   \n",
       "3     5891.0          5891.0       5868.0       5891.0         5868.0   \n",
       "4     5891.0          5891.0       5868.0       5891.0         5868.0   \n",
       "\n",
       "       NPHI  PHIE_I7  PHIE_I8I7  PHIE_MLFILLED      RDEP      RMED  \\\n",
       "0  0.722802  0.05792    0.05792        0.05792  0.664799  0.518799   \n",
       "1  0.722802  0.05792    0.05792        0.05792  0.664799  0.518799   \n",
       "2  0.722802  0.05792    0.05792        0.05792  0.664799  0.518799   \n",
       "3  0.722802  0.05792    0.05792        0.05792  0.664799  0.518799   \n",
       "4  0.722802  0.05792    0.05792        0.05792  0.664799  0.518799   \n",
       "\n",
       "          Well         TD  \n",
       "0  16_7-10.las  160.22121  \n",
       "1  16_7-10.las  160.37361  \n",
       "2  16_7-10.las  160.52601  \n",
       "3  16_7-10.las  160.67841  \n",
       "4  16_7-10.las  160.83081  "
      ]
     },
     "execution_count": 73,
     "metadata": {},
     "output_type": "execute_result"
    }
   ],
   "source": [
    "well_data = wells_load(\"wells\")\n",
    "well_data.head()"
   ]
  },
  {
   "cell_type": "code",
   "execution_count": 76,
   "metadata": {},
   "outputs": [],
   "source": [
    "classifier = classifier_choice('pca')\n",
    "well_clusters = data_fit(classifier,well_data.drop(['Well'],axis=1))"
   ]
  },
  {
   "cell_type": "code",
   "execution_count": 86,
   "metadata": {},
   "outputs": [],
   "source": [
    "from sklearn import preprocessing\n",
    "\n",
    "le = preprocessing.LabelEncoder()\n",
    "le.fit(well_data['Well'].unique())\n",
    "well_labels = le.transform(well_data['Well'])"
   ]
  },
  {
   "cell_type": "code",
   "execution_count": 90,
   "metadata": {},
   "outputs": [
    {
     "data": {
      "text/plain": [
       "array(['16_7-10.las'], dtype=object)"
      ]
     },
     "execution_count": 90,
     "metadata": {},
     "output_type": "execute_result"
    }
   ],
   "source": [
    "well_data['Well'].unique()"
   ]
  },
  {
   "cell_type": "code",
   "execution_count": 98,
   "metadata": {},
   "outputs": [
    {
     "data": {
      "image/png": "[encoded data removed]",
      "text/plain": [
       "<Figure size 1440x1080 with 1 Axes>"
      ]
     },
     "metadata": {},
     "output_type": "display_data"
    }
   ],
   "source": [
    "plot_embedding(well_clusters,'PCA')\n",
    "plt.show()"
   ]
  }
 ],
 "metadata": {
  "kernelspec": {
   "display_name": "Python [conda env:Anaconda3]",
   "language": "python",
   "name": "conda-env-Anaconda3-py"
  },
  "language_info": {
   "codemirror_mode": {
    "name": "ipython",
    "version": 3
   },
   "file_extension": ".py",
   "mimetype": "text/x-python",
   "name": "python",
   "nbconvert_exporter": "python",
   "pygments_lexer": "ipython3",
   "version": "3.6.3"
  }
 },
 "nbformat": 4,
 "nbformat_minor": 2
}
