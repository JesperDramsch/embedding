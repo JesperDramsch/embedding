{
 "cells": [
  {
   "cell_type": "code",
   "execution_count": 53,
   "metadata": {
    "collapsed": true
   },
   "outputs": [],
   "source": [
    "%load_ext autoreload\n",
    "%autoreload 2"
   ]
  },
  {
   "cell_type": "code",
   "execution_count": 54,
   "metadata": {},
   "outputs": [],
   "source": [
    "import pandas as pd\n",
    "import numpy as np\n",
    "import matplotlib.pyplot as plt"
   ]
  },
  {
   "cell_type": "code",
   "execution_count": 55,
   "metadata": {
    "collapsed": true
   },
   "outputs": [],
   "source": [
    "from classifier_choice import *"
   ]
  },
  {
   "cell_type": "code",
   "execution_count": 69,
   "metadata": {},
   "outputs": [],
   "source": [
    "from well_load import *"
   ]
  },
  {
   "cell_type": "code",
   "execution_count": 56,
   "metadata": {},
   "outputs": [],
   "source": [
    "digits = datasets.load_digits()"
   ]
  },
  {
   "cell_type": "code",
   "execution_count": 57,
   "metadata": {},
   "outputs": [],
   "source": [
    "data = digits.data\n",
    "labels = digits.target"
   ]
  },
  {
   "cell_type": "code",
   "execution_count": 58,
   "metadata": {
    "collapsed": true
   },
   "outputs": [],
   "source": [
    "n_samples, n_features = data.shape"
   ]
  },
  {
   "cell_type": "code",
   "execution_count": 59,
   "metadata": {},
   "outputs": [],
   "source": [
    "methods = [ 'pca', 'isomap', 'lle', 'mlle', 'hlle', 'ltsa', 'mds', 'trees','tsne']"
   ]
  },
  {
   "cell_type": "code",
   "execution_count": 60,
   "metadata": {
    "collapsed": true
   },
   "outputs": [],
   "source": [
    "from matplotlib import offsetbox\n",
    "def plot_embedding(X, y, title=None):\n",
    "    x_min, x_max = np.min(X, 0), np.max(X, 0)\n",
    "    X = (X - x_min) / (x_max - x_min)\n",
    "\n",
    "    plt.figure(figsize=(20,15))\n",
    "    ax = plt.subplot(111)\n",
    "    for i in range(X.shape[0]):\n",
    "        plt.text(X[i, 0], X[i, 1], str(digits.target[i]),\n",
    "                 color=plt.cm.Set1(y[i] / 10.),\n",
    "                 fontdict={'weight': 'bold', 'size': 9})\n",
    "\n",
    "    if hasattr(offsetbox, 'AnnotationBbox'):\n",
    "        # only print thumbnails with matplotlib > 1.0\n",
    "        shown_images = np.array([[1., 1.]])  # just something big\n",
    "        for i in range(digits.data.shape[0]):\n",
    "            dist = np.sum((X[i] - shown_images) ** 2, 1)\n",
    "            if np.min(dist) < 4e-3:\n",
    "                # don't show points that are too close\n",
    "                continue\n",
    "            shown_images = np.r_[shown_images, [X[i]]]\n",
    "            imagebox = offsetbox.AnnotationBbox(\n",
    "                offsetbox.OffsetImage(digits.images[i], cmap=plt.cm.gray_r),\n",
    "                X[i])\n",
    "            ax.add_artist(imagebox)\n",
    "    plt.xticks([]), plt.yticks([])\n",
    "    if title is not None:\n",
    "        plt.title(title)"
   ]
  },
  {
   "cell_type": "code",
   "execution_count": 61,
   "metadata": {
    "scrolled": true
   },
   "outputs": [
    {
     "ename": "KeyboardInterrupt",
     "evalue": "",
     "output_type": "error",
     "traceback": [
      "\u001b[1;31m---------------------------------------------------------------------------\u001b[0m",
      "\u001b[1;31mKeyboardInterrupt\u001b[0m                         Traceback (most recent call last)",
      "\u001b[1;32m<ipython-input-61-38b5dab94662>\u001b[0m in \u001b[0;36m<module>\u001b[1;34m()\u001b[0m\n\u001b[0;32m      1\u001b[0m \u001b[1;32mfor\u001b[0m \u001b[0mmathod\u001b[0m \u001b[1;32min\u001b[0m \u001b[0mmethods\u001b[0m\u001b[1;33m:\u001b[0m\u001b[1;33m\u001b[0m\u001b[0m\n\u001b[0;32m      2\u001b[0m     \u001b[0mclf\u001b[0m \u001b[1;33m=\u001b[0m \u001b[0mclassifier_choice\u001b[0m\u001b[1;33m(\u001b[0m\u001b[0mmathod\u001b[0m\u001b[1;33m)\u001b[0m\u001b[1;33m\u001b[0m\u001b[0m\n\u001b[1;32m----> 3\u001b[1;33m     \u001b[0mclusters\u001b[0m \u001b[1;33m=\u001b[0m \u001b[0mdata_fit\u001b[0m\u001b[1;33m(\u001b[0m\u001b[0mclf\u001b[0m\u001b[1;33m,\u001b[0m\u001b[0mdata\u001b[0m\u001b[1;33m)\u001b[0m\u001b[1;33m\u001b[0m\u001b[0m\n\u001b[0m\u001b[0;32m      4\u001b[0m     \u001b[0mplot_embedding\u001b[0m\u001b[1;33m(\u001b[0m\u001b[0mclusters\u001b[0m\u001b[1;33m,\u001b[0m\u001b[0mlabels\u001b[0m\u001b[1;33m,\u001b[0m\u001b[0mmathod\u001b[0m\u001b[1;33m)\u001b[0m\u001b[1;33m\u001b[0m\u001b[0m\n\u001b[0;32m      5\u001b[0m \u001b[0mplt\u001b[0m\u001b[1;33m.\u001b[0m\u001b[0mshow\u001b[0m\u001b[1;33m(\u001b[0m\u001b[1;33m)\u001b[0m\u001b[1;33m\u001b[0m\u001b[0m\n",
      "\u001b[1;32m~\\Github\\embedding\\classifier_choice.py\u001b[0m in \u001b[0;36mdata_fit\u001b[1;34m(classifier, data)\u001b[0m\n\u001b[0;32m     42\u001b[0m \u001b[1;33m\u001b[0m\u001b[0m\n\u001b[0;32m     43\u001b[0m \u001b[1;32mdef\u001b[0m \u001b[0mdata_fit\u001b[0m\u001b[1;33m(\u001b[0m\u001b[0mclassifier\u001b[0m\u001b[1;33m,\u001b[0m\u001b[0mdata\u001b[0m\u001b[1;33m)\u001b[0m\u001b[1;33m:\u001b[0m\u001b[1;33m\u001b[0m\u001b[0m\n\u001b[1;32m---> 44\u001b[1;33m         \u001b[1;32mreturn\u001b[0m \u001b[0mclassifier\u001b[0m\u001b[1;33m.\u001b[0m\u001b[0mfit_transform\u001b[0m\u001b[1;33m(\u001b[0m\u001b[0mdata\u001b[0m\u001b[1;33m)\u001b[0m\u001b[1;33m\u001b[0m\u001b[0m\n\u001b[0m",
      "\u001b[1;32mC:\\tools\\Anaconda3\\lib\\site-packages\\sklearn\\manifold\\isomap.py\u001b[0m in \u001b[0;36mfit_transform\u001b[1;34m(self, X, y)\u001b[0m\n\u001b[0;32m    182\u001b[0m         \u001b[0mX_new\u001b[0m \u001b[1;33m:\u001b[0m \u001b[0marray\u001b[0m\u001b[1;33m-\u001b[0m\u001b[0mlike\u001b[0m\u001b[1;33m,\u001b[0m \u001b[0mshape\u001b[0m \u001b[1;33m(\u001b[0m\u001b[0mn_samples\u001b[0m\u001b[1;33m,\u001b[0m \u001b[0mn_components\u001b[0m\u001b[1;33m)\u001b[0m\u001b[1;33m\u001b[0m\u001b[0m\n\u001b[0;32m    183\u001b[0m         \"\"\"\n\u001b[1;32m--> 184\u001b[1;33m         \u001b[0mself\u001b[0m\u001b[1;33m.\u001b[0m\u001b[0m_fit_transform\u001b[0m\u001b[1;33m(\u001b[0m\u001b[0mX\u001b[0m\u001b[1;33m)\u001b[0m\u001b[1;33m\u001b[0m\u001b[0m\n\u001b[0m\u001b[0;32m    185\u001b[0m         \u001b[1;32mreturn\u001b[0m \u001b[0mself\u001b[0m\u001b[1;33m.\u001b[0m\u001b[0membedding_\u001b[0m\u001b[1;33m\u001b[0m\u001b[0m\n\u001b[0;32m    186\u001b[0m \u001b[1;33m\u001b[0m\u001b[0m\n",
      "\u001b[1;32mC:\\tools\\Anaconda3\\lib\\site-packages\\sklearn\\manifold\\isomap.py\u001b[0m in \u001b[0;36m_fit_transform\u001b[1;34m(self, X)\u001b[0m\n\u001b[0;32m    118\u001b[0m         self.dist_matrix_ = graph_shortest_path(kng,\n\u001b[0;32m    119\u001b[0m                                                 \u001b[0mmethod\u001b[0m\u001b[1;33m=\u001b[0m\u001b[0mself\u001b[0m\u001b[1;33m.\u001b[0m\u001b[0mpath_method\u001b[0m\u001b[1;33m,\u001b[0m\u001b[1;33m\u001b[0m\u001b[0m\n\u001b[1;32m--> 120\u001b[1;33m                                                 directed=False)\n\u001b[0m\u001b[0;32m    121\u001b[0m         \u001b[0mG\u001b[0m \u001b[1;33m=\u001b[0m \u001b[0mself\u001b[0m\u001b[1;33m.\u001b[0m\u001b[0mdist_matrix_\u001b[0m \u001b[1;33m**\u001b[0m \u001b[1;36m2\u001b[0m\u001b[1;33m\u001b[0m\u001b[0m\n\u001b[0;32m    122\u001b[0m         \u001b[0mG\u001b[0m \u001b[1;33m*=\u001b[0m \u001b[1;33m-\u001b[0m\u001b[1;36m0.5\u001b[0m\u001b[1;33m\u001b[0m\u001b[0m\n",
      "\u001b[1;31mKeyboardInterrupt\u001b[0m: "
     ]
    }
   ],
   "source": [
    "for mathod in methods:\n",
    "    clf = classifier_choice(mathod)\n",
    "    clusters = data_fit(clf,data)\n",
    "    plot_embedding(clusters,labels,mathod)\n",
    "plt.show()"
   ]
  },
  {
   "cell_type": "code",
   "execution_count": 73,
   "metadata": {
    "scrolled": false
   },
   "outputs": [
    {
     "data": {
      "text/html": [
       "<div>\n",
       "<style scoped>\n",
       "    .dataframe tbody tr th:only-of-type {\n",
       "        vertical-align: middle;\n",
       "    }\n",
       "\n",
       "    .dataframe tbody tr th {\n",
       "        vertical-align: top;\n",
       "    }\n",
       "\n",
       "    .dataframe thead th {\n",
       "        text-align: right;\n",
       "    }\n",
       "</style>\n",
       "<table border=\"1\" class=\"dataframe\">\n",
       "  <thead>\n",
       "    <tr style=\"text-align: right;\">\n",
       "      <th></th>\n",
       "      <th>DEN</th>\n",
       "      <th>DT</th>\n",
       "      <th>DTS</th>\n",
       "      <th>DTS_I7</th>\n",
       "      <th>DTS_MLFILLED</th>\n",
       "      <th>GR</th>\n",
       "      <th>LITHESA10</th>\n",
       "      <th>LITHESA9_FILTR</th>\n",
       "      <th>LITHESA9_I4</th>\n",
       "      <th>LITHESA9_I8</th>\n",
       "      <th>LITHESA9_I8I4</th>\n",
       "      <th>NPHI</th>\n",
       "      <th>PHIE_I7</th>\n",
       "      <th>PHIE_I8I7</th>\n",
       "      <th>PHIE_MLFILLED</th>\n",
       "      <th>RDEP</th>\n",
       "      <th>RMED</th>\n",
       "      <th>Well</th>\n",
       "      <th>TD</th>\n",
       "    </tr>\n",
       "  </thead>\n",
       "  <tbody>\n",
       "    <tr>\n",
       "      <th>0</th>\n",
       "      <td>2.001409</td>\n",
       "      <td>155.183043</td>\n",
       "      <td>481.094017</td>\n",
       "      <td>519.064866</td>\n",
       "      <td>481.094017</td>\n",
       "      <td>10.481200</td>\n",
       "      <td>5891.0</td>\n",
       "      <td>5891.0</td>\n",
       "      <td>5868.0</td>\n",
       "      <td>5891.0</td>\n",
       "      <td>5868.0</td>\n",
       "      <td>0.722802</td>\n",
       "      <td>0.05792</td>\n",
       "      <td>0.05792</td>\n",
       "      <td>0.05792</td>\n",
       "      <td>0.664799</td>\n",
       "      <td>0.518799</td>\n",
       "      <td>16_7-10.las</td>\n",
       "      <td>160.22121</td>\n",
       "    </tr>\n",
       "    <tr>\n",
       "      <th>1</th>\n",
       "      <td>2.001409</td>\n",
       "      <td>155.183043</td>\n",
       "      <td>481.094017</td>\n",
       "      <td>519.064866</td>\n",
       "      <td>481.094017</td>\n",
       "      <td>10.702790</td>\n",
       "      <td>5891.0</td>\n",
       "      <td>5891.0</td>\n",
       "      <td>5868.0</td>\n",
       "      <td>5891.0</td>\n",
       "      <td>5868.0</td>\n",
       "      <td>0.722802</td>\n",
       "      <td>0.05792</td>\n",
       "      <td>0.05792</td>\n",
       "      <td>0.05792</td>\n",
       "      <td>0.664799</td>\n",
       "      <td>0.518799</td>\n",
       "      <td>16_7-10.las</td>\n",
       "      <td>160.37361</td>\n",
       "    </tr>\n",
       "    <tr>\n",
       "      <th>2</th>\n",
       "      <td>2.001409</td>\n",
       "      <td>155.183043</td>\n",
       "      <td>481.094017</td>\n",
       "      <td>519.064866</td>\n",
       "      <td>481.094017</td>\n",
       "      <td>10.547792</td>\n",
       "      <td>5891.0</td>\n",
       "      <td>5891.0</td>\n",
       "      <td>5868.0</td>\n",
       "      <td>5891.0</td>\n",
       "      <td>5868.0</td>\n",
       "      <td>0.722802</td>\n",
       "      <td>0.05792</td>\n",
       "      <td>0.05792</td>\n",
       "      <td>0.05792</td>\n",
       "      <td>0.664799</td>\n",
       "      <td>0.518799</td>\n",
       "      <td>16_7-10.las</td>\n",
       "      <td>160.52601</td>\n",
       "    </tr>\n",
       "    <tr>\n",
       "      <th>3</th>\n",
       "      <td>2.001409</td>\n",
       "      <td>155.183043</td>\n",
       "      <td>481.094017</td>\n",
       "      <td>519.064866</td>\n",
       "      <td>481.094017</td>\n",
       "      <td>10.420900</td>\n",
       "      <td>5891.0</td>\n",
       "      <td>5891.0</td>\n",
       "      <td>5868.0</td>\n",
       "      <td>5891.0</td>\n",
       "      <td>5868.0</td>\n",
       "      <td>0.722802</td>\n",
       "      <td>0.05792</td>\n",
       "      <td>0.05792</td>\n",
       "      <td>0.05792</td>\n",
       "      <td>0.664799</td>\n",
       "      <td>0.518799</td>\n",
       "      <td>16_7-10.las</td>\n",
       "      <td>160.67841</td>\n",
       "    </tr>\n",
       "    <tr>\n",
       "      <th>4</th>\n",
       "      <td>2.001409</td>\n",
       "      <td>155.183043</td>\n",
       "      <td>481.094017</td>\n",
       "      <td>519.064866</td>\n",
       "      <td>481.094017</td>\n",
       "      <td>11.238597</td>\n",
       "      <td>5891.0</td>\n",
       "      <td>5891.0</td>\n",
       "      <td>5868.0</td>\n",
       "      <td>5891.0</td>\n",
       "      <td>5868.0</td>\n",
       "      <td>0.722802</td>\n",
       "      <td>0.05792</td>\n",
       "      <td>0.05792</td>\n",
       "      <td>0.05792</td>\n",
       "      <td>0.664799</td>\n",
       "      <td>0.518799</td>\n",
       "      <td>16_7-10.las</td>\n",
       "      <td>160.83081</td>\n",
       "    </tr>\n",
       "  </tbody>\n",
       "</table>\n",
       "</div>"
      ],
      "text/plain": [
       "        DEN          DT         DTS      DTS_I7  DTS_MLFILLED         GR  \\\n",
       "0  2.001409  155.183043  481.094017  519.064866    481.094017  10.481200   \n",
       "1  2.001409  155.183043  481.094017  519.064866    481.094017  10.702790   \n",
       "2  2.001409  155.183043  481.094017  519.064866    481.094017  10.547792   \n",
       "3  2.001409  155.183043  481.094017  519.064866    481.094017  10.420900   \n",
       "4  2.001409  155.183043  481.094017  519.064866    481.094017  11.238597   \n",
       "\n",
       "   LITHESA10  LITHESA9_FILTR  LITHESA9_I4  LITHESA9_I8  LITHESA9_I8I4  \\\n",
       "0     5891.0          5891.0       5868.0       5891.0         5868.0   \n",
       "1     5891.0          5891.0       5868.0       5891.0         5868.0   \n",
       "2     5891.0          5891.0       5868.0       5891.0         5868.0   \n",
       "3     5891.0          5891.0       5868.0       5891.0         5868.0   \n",
       "4     5891.0          5891.0       5868.0       5891.0         5868.0   \n",
       "\n",
       "       NPHI  PHIE_I7  PHIE_I8I7  PHIE_MLFILLED      RDEP      RMED  \\\n",
       "0  0.722802  0.05792    0.05792        0.05792  0.664799  0.518799   \n",
       "1  0.722802  0.05792    0.05792        0.05792  0.664799  0.518799   \n",
       "2  0.722802  0.05792    0.05792        0.05792  0.664799  0.518799   \n",
       "3  0.722802  0.05792    0.05792        0.05792  0.664799  0.518799   \n",
       "4  0.722802  0.05792    0.05792        0.05792  0.664799  0.518799   \n",
       "\n",
       "          Well         TD  \n",
       "0  16_7-10.las  160.22121  \n",
       "1  16_7-10.las  160.37361  \n",
       "2  16_7-10.las  160.52601  \n",
       "3  16_7-10.las  160.67841  \n",
       "4  16_7-10.las  160.83081  "
      ]
     },
     "execution_count": 73,
     "metadata": {},
     "output_type": "execute_result"
    }
   ],
   "source": [
    "well_data = wells_load(\"wells\")\n",
    "well_data.head()"
   ]
  },
  {
   "cell_type": "code",
   "execution_count": 76,
   "metadata": {},
   "outputs": [],
   "source": [
    "classifier = classifier_choice('pca')\n",
    "well_clusters = data_fit(classifier,well_data.drop(['Well'],axis=1))"
   ]
  },
  {
   "cell_type": "code",
   "execution_count": 78,
   "metadata": {},
   "outputs": [
    {
     "ename": "TypeError",
     "evalue": "unsupported operand type(s) for /: 'str' and 'float'",
     "output_type": "error",
     "traceback": [
      "\u001b[1;31m---------------------------------------------------------------------------\u001b[0m",
      "\u001b[1;31mTypeError\u001b[0m                                 Traceback (most recent call last)",
      "\u001b[1;32m<ipython-input-78-029adefc8e69>\u001b[0m in \u001b[0;36m<module>\u001b[1;34m()\u001b[0m\n\u001b[1;32m----> 1\u001b[1;33m \u001b[0mplot_embedding\u001b[0m\u001b[1;33m(\u001b[0m\u001b[0mwell_clusters\u001b[0m\u001b[1;33m,\u001b[0m\u001b[0mwell_data\u001b[0m\u001b[1;33m[\u001b[0m\u001b[1;34m'Well'\u001b[0m\u001b[1;33m]\u001b[0m\u001b[1;33m,\u001b[0m\u001b[1;34m'PCA'\u001b[0m\u001b[1;33m)\u001b[0m\u001b[1;33m\u001b[0m\u001b[0m\n\u001b[0m",
      "\u001b[1;32m<ipython-input-60-ee9fdd197a4e>\u001b[0m in \u001b[0;36mplot_embedding\u001b[1;34m(X, y, title)\u001b[0m\n\u001b[0;32m      8\u001b[0m     \u001b[1;32mfor\u001b[0m \u001b[0mi\u001b[0m \u001b[1;32min\u001b[0m \u001b[0mrange\u001b[0m\u001b[1;33m(\u001b[0m\u001b[0mX\u001b[0m\u001b[1;33m.\u001b[0m\u001b[0mshape\u001b[0m\u001b[1;33m[\u001b[0m\u001b[1;36m0\u001b[0m\u001b[1;33m]\u001b[0m\u001b[1;33m)\u001b[0m\u001b[1;33m:\u001b[0m\u001b[1;33m\u001b[0m\u001b[0m\n\u001b[0;32m      9\u001b[0m         plt.text(X[i, 0], X[i, 1], str(digits.target[i]),\n\u001b[1;32m---> 10\u001b[1;33m                  \u001b[0mcolor\u001b[0m\u001b[1;33m=\u001b[0m\u001b[0mplt\u001b[0m\u001b[1;33m.\u001b[0m\u001b[0mcm\u001b[0m\u001b[1;33m.\u001b[0m\u001b[0mSet1\u001b[0m\u001b[1;33m(\u001b[0m\u001b[0my\u001b[0m\u001b[1;33m[\u001b[0m\u001b[0mi\u001b[0m\u001b[1;33m]\u001b[0m \u001b[1;33m/\u001b[0m \u001b[1;36m10.\u001b[0m\u001b[1;33m)\u001b[0m\u001b[1;33m,\u001b[0m\u001b[1;33m\u001b[0m\u001b[0m\n\u001b[0m\u001b[0;32m     11\u001b[0m                  fontdict={'weight': 'bold', 'size': 9})\n\u001b[0;32m     12\u001b[0m \u001b[1;33m\u001b[0m\u001b[0m\n",
      "\u001b[1;31mTypeError\u001b[0m: unsupported operand type(s) for /: 'str' and 'float'"
     ]
    }
   ],
   "source": [
    "plot_embedding(well_clusters,well_data['Well'],'PCA')"
   ]
  }
 ],
 "metadata": {
  "kernelspec": {
   "display_name": "Python [conda env:Anaconda3]",
   "language": "python",
   "name": "conda-env-Anaconda3-py"
  },
  "language_info": {
   "codemirror_mode": {
    "name": "ipython",
    "version": 3
   },
   "file_extension": ".py",
   "mimetype": "text/x-python",
   "name": "python",
   "nbconvert_exporter": "python",
   "pygments_lexer": "ipython3",
   "version": "3.6.3"
  }
 },
 "nbformat": 4,
 "nbformat_minor": 2
}
