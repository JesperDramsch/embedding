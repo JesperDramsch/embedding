{
 "cells": [
  {
   "cell_type": "code",
   "execution_count": 1,
   "metadata": {
    "collapsed": true,
    "scrolled": true
   },
   "outputs": [],
   "source": [
    "%load_ext autoreload\n",
    "%autoreload 2"
   ]
  },
  {
   "cell_type": "code",
   "execution_count": 2,
   "metadata": {
    "collapsed": true
   },
   "outputs": [],
   "source": [
    "import pandas as pd\n",
    "import numpy as np\n",
    "import matplotlib.pyplot as plt"
   ]
  },
  {
   "cell_type": "code",
   "execution_count": 3,
   "metadata": {
    "collapsed": true
   },
   "outputs": [],
   "source": [
    "from classifier_choice import *"
   ]
  },
  {
   "cell_type": "code",
   "execution_count": 60,
   "metadata": {
    "collapsed": true
   },
   "outputs": [],
   "source": [
    "from well_load_fluids import *"
   ]
  },
  {
   "cell_type": "code",
   "execution_count": 5,
   "metadata": {
    "collapsed": true
   },
   "outputs": [],
   "source": [
    "methods = [ 'pca', 'isomap', 'lle', 'mlle', 'hlle', 'ltsa', 'mds', 'trees','tsne']"
   ]
  },
  {
   "cell_type": "code",
   "execution_count": 6,
   "metadata": {
    "collapsed": true
   },
   "outputs": [],
   "source": [
    "def plot_embedding(X, title=None):\n",
    "    plt.figure(figsize=(20,15))\n",
    "    plt.scatter(X[:,0],X[:,1])\n",
    "    plt.axis('equal')\n",
    "    \n",
    "    plt.xticks([]), plt.yticks([])\n",
    "    if title is not None:\n",
    "        plt.title(title)"
   ]
  },
  {
   "cell_type": "code",
   "execution_count": null,
   "metadata": {
    "collapsed": true,
    "scrolled": true
   },
   "outputs": [],
   "source": [
    "for mathod in methods:\n",
    "    clf = classifier_choice(mathod)\n",
    "    clusters = data_fit(clf,data)\n",
    "    plot_embedding(clusters,labels,mathod)\n",
    "plt.show()"
   ]
  },
  {
   "cell_type": "code",
   "execution_count": 83,
   "metadata": {},
   "outputs": [
    {
     "data": {
      "text/plain": [
       "array(['15_12-18S.las', '15_3-7.las', '15_6-10.las', '15_6-11S.las',\n",
       "       '16_1-12.las'], dtype=object)"
      ]
     },
     "execution_count": 83,
     "metadata": {},
     "output_type": "execute_result"
    }
   ],
   "source": [
    "well_data = wells_load(\"./oilwells/\",'fluids.csv')\n",
    "well_data['Well'].unique()"
   ]
  },
  {
   "cell_type": "code",
   "execution_count": 62,
   "metadata": {},
   "outputs": [
    {
     "data": {
      "text/html": [
       "<div>\n",
       "<style scoped>\n",
       "    .dataframe tbody tr th:only-of-type {\n",
       "        vertical-align: middle;\n",
       "    }\n",
       "\n",
       "    .dataframe tbody tr th {\n",
       "        vertical-align: top;\n",
       "    }\n",
       "\n",
       "    .dataframe thead th {\n",
       "        text-align: right;\n",
       "    }\n",
       "</style>\n",
       "<table border=\"1\" class=\"dataframe\">\n",
       "  <thead>\n",
       "    <tr style=\"text-align: right;\">\n",
       "      <th></th>\n",
       "      <th>DEN</th>\n",
       "      <th>DT</th>\n",
       "      <th>DTS</th>\n",
       "      <th>DTS_I7</th>\n",
       "      <th>DTS_MLFILLED</th>\n",
       "      <th>GR</th>\n",
       "      <th>LITHESA10</th>\n",
       "      <th>LITHESA9_FILTR</th>\n",
       "      <th>LITHESA9_I4</th>\n",
       "      <th>LITHESA9_I8</th>\n",
       "      <th>...</th>\n",
       "      <th>PHIE_I8I7</th>\n",
       "      <th>PHIE_MLFILLED</th>\n",
       "      <th>RDEP</th>\n",
       "      <th>RMED</th>\n",
       "      <th>Well</th>\n",
       "      <th>TD</th>\n",
       "      <th>FLUID</th>\n",
       "      <th>Flag_gas</th>\n",
       "      <th>Flag_oil</th>\n",
       "      <th>Flag_cond</th>\n",
       "    </tr>\n",
       "  </thead>\n",
       "  <tbody>\n",
       "    <tr>\n",
       "      <th>0</th>\n",
       "      <td>1.879899</td>\n",
       "      <td>153.513549</td>\n",
       "      <td>327.220172</td>\n",
       "      <td>336.592138</td>\n",
       "      <td>327.220172</td>\n",
       "      <td>40.376695</td>\n",
       "      <td>5891.0</td>\n",
       "      <td>5891.0</td>\n",
       "      <td>5868.0</td>\n",
       "      <td>5891.0</td>\n",
       "      <td>...</td>\n",
       "      <td>0.050499</td>\n",
       "      <td>0.050499</td>\n",
       "      <td>0.771998</td>\n",
       "      <td>0.443244</td>\n",
       "      <td>15_12-18S.las</td>\n",
       "      <td>232.91600</td>\n",
       "      <td>0</td>\n",
       "      <td>0</td>\n",
       "      <td>0</td>\n",
       "      <td>0</td>\n",
       "    </tr>\n",
       "    <tr>\n",
       "      <th>1</th>\n",
       "      <td>1.879899</td>\n",
       "      <td>153.513549</td>\n",
       "      <td>327.220172</td>\n",
       "      <td>336.592138</td>\n",
       "      <td>327.220172</td>\n",
       "      <td>40.376695</td>\n",
       "      <td>5891.0</td>\n",
       "      <td>5891.0</td>\n",
       "      <td>5868.0</td>\n",
       "      <td>5891.0</td>\n",
       "      <td>...</td>\n",
       "      <td>0.050499</td>\n",
       "      <td>0.050499</td>\n",
       "      <td>0.771998</td>\n",
       "      <td>0.443244</td>\n",
       "      <td>15_12-18S.las</td>\n",
       "      <td>233.06835</td>\n",
       "      <td>0</td>\n",
       "      <td>0</td>\n",
       "      <td>0</td>\n",
       "      <td>0</td>\n",
       "    </tr>\n",
       "    <tr>\n",
       "      <th>2</th>\n",
       "      <td>1.879899</td>\n",
       "      <td>153.513549</td>\n",
       "      <td>327.220172</td>\n",
       "      <td>336.592138</td>\n",
       "      <td>327.220172</td>\n",
       "      <td>40.376695</td>\n",
       "      <td>5891.0</td>\n",
       "      <td>5891.0</td>\n",
       "      <td>5868.0</td>\n",
       "      <td>5891.0</td>\n",
       "      <td>...</td>\n",
       "      <td>0.050499</td>\n",
       "      <td>0.050499</td>\n",
       "      <td>0.771998</td>\n",
       "      <td>0.443244</td>\n",
       "      <td>15_12-18S.las</td>\n",
       "      <td>233.22070</td>\n",
       "      <td>0</td>\n",
       "      <td>0</td>\n",
       "      <td>0</td>\n",
       "      <td>0</td>\n",
       "    </tr>\n",
       "    <tr>\n",
       "      <th>3</th>\n",
       "      <td>1.879899</td>\n",
       "      <td>153.513549</td>\n",
       "      <td>327.220172</td>\n",
       "      <td>336.592138</td>\n",
       "      <td>327.220172</td>\n",
       "      <td>40.376695</td>\n",
       "      <td>5891.0</td>\n",
       "      <td>5891.0</td>\n",
       "      <td>5868.0</td>\n",
       "      <td>5891.0</td>\n",
       "      <td>...</td>\n",
       "      <td>0.050499</td>\n",
       "      <td>0.050499</td>\n",
       "      <td>0.771998</td>\n",
       "      <td>0.443244</td>\n",
       "      <td>15_12-18S.las</td>\n",
       "      <td>233.37305</td>\n",
       "      <td>0</td>\n",
       "      <td>0</td>\n",
       "      <td>0</td>\n",
       "      <td>0</td>\n",
       "    </tr>\n",
       "    <tr>\n",
       "      <th>4</th>\n",
       "      <td>1.879899</td>\n",
       "      <td>153.513549</td>\n",
       "      <td>327.220172</td>\n",
       "      <td>336.592138</td>\n",
       "      <td>327.220172</td>\n",
       "      <td>40.376695</td>\n",
       "      <td>5891.0</td>\n",
       "      <td>5891.0</td>\n",
       "      <td>5868.0</td>\n",
       "      <td>5891.0</td>\n",
       "      <td>...</td>\n",
       "      <td>0.050499</td>\n",
       "      <td>0.050499</td>\n",
       "      <td>0.771998</td>\n",
       "      <td>0.443244</td>\n",
       "      <td>15_12-18S.las</td>\n",
       "      <td>233.52540</td>\n",
       "      <td>0</td>\n",
       "      <td>0</td>\n",
       "      <td>0</td>\n",
       "      <td>0</td>\n",
       "    </tr>\n",
       "  </tbody>\n",
       "</table>\n",
       "<p>5 rows × 23 columns</p>\n",
       "</div>"
      ],
      "text/plain": [
       "        DEN          DT         DTS      DTS_I7  DTS_MLFILLED         GR  \\\n",
       "0  1.879899  153.513549  327.220172  336.592138    327.220172  40.376695   \n",
       "1  1.879899  153.513549  327.220172  336.592138    327.220172  40.376695   \n",
       "2  1.879899  153.513549  327.220172  336.592138    327.220172  40.376695   \n",
       "3  1.879899  153.513549  327.220172  336.592138    327.220172  40.376695   \n",
       "4  1.879899  153.513549  327.220172  336.592138    327.220172  40.376695   \n",
       "\n",
       "   LITHESA10  LITHESA9_FILTR  LITHESA9_I4  LITHESA9_I8    ...      PHIE_I8I7  \\\n",
       "0     5891.0          5891.0       5868.0       5891.0    ...       0.050499   \n",
       "1     5891.0          5891.0       5868.0       5891.0    ...       0.050499   \n",
       "2     5891.0          5891.0       5868.0       5891.0    ...       0.050499   \n",
       "3     5891.0          5891.0       5868.0       5891.0    ...       0.050499   \n",
       "4     5891.0          5891.0       5868.0       5891.0    ...       0.050499   \n",
       "\n",
       "   PHIE_MLFILLED      RDEP      RMED           Well         TD  FLUID  \\\n",
       "0       0.050499  0.771998  0.443244  15_12-18S.las  232.91600      0   \n",
       "1       0.050499  0.771998  0.443244  15_12-18S.las  233.06835      0   \n",
       "2       0.050499  0.771998  0.443244  15_12-18S.las  233.22070      0   \n",
       "3       0.050499  0.771998  0.443244  15_12-18S.las  233.37305      0   \n",
       "4       0.050499  0.771998  0.443244  15_12-18S.las  233.52540      0   \n",
       "\n",
       "  Flag_gas  Flag_oil  Flag_cond  \n",
       "0        0         0          0  \n",
       "1        0         0          0  \n",
       "2        0         0          0  \n",
       "3        0         0          0  \n",
       "4        0         0          0  \n",
       "\n",
       "[5 rows x 23 columns]"
      ]
     },
     "execution_count": 62,
     "metadata": {},
     "output_type": "execute_result"
    }
   ],
   "source": [
    "from sklearn import preprocessing\n",
    "\n",
    "le = preprocessing.LabelEncoder()\n",
    "le.fit(well_data['Well'].unique())\n",
    "well_labels = le.transform(well_data['Well'])\n",
    "well_data.head()"
   ]
  },
  {
   "cell_type": "code",
   "execution_count": 77,
   "metadata": {},
   "outputs": [
    {
     "data": {
      "text/plain": [
       "Index(['DEN', 'DT', 'DTS', 'DTS_I7', 'DTS_MLFILLED', 'GR', 'LITHESA10',\n",
       "       'LITHESA9_FILTR', 'LITHESA9_I4', 'LITHESA9_I8', 'LITHESA9_I8I4', 'NPHI',\n",
       "       'PHIE_I7', 'PHIE_I8I7', 'PHIE_MLFILLED', 'RDEP', 'RMED', 'Well', 'TD',\n",
       "       'FLUID', 'Flag_gas', 'Flag_oil', 'Flag_cond'],\n",
       "      dtype='object')"
      ]
     },
     "execution_count": 77,
     "metadata": {},
     "output_type": "execute_result"
    }
   ],
   "source": [
    "well_data.columns"
   ]
  },
  {
   "cell_type": "code",
   "execution_count": null,
   "metadata": {
    "scrolled": true
   },
   "outputs": [
    {
     "name": "stdout",
     "output_type": "stream",
     "text": [
      "[t-SNE] Computing 91 nearest neighbors...\n",
      "[t-SNE] Indexed 112624 samples in 0.272s...\n",
      "[t-SNE] Computed neighbors for 112624 samples in 7.515s...\n",
      "[t-SNE] Computed conditional probabilities for sample 1000 / 112624\n",
      "[t-SNE] Computed conditional probabilities for sample 2000 / 112624\n",
      "[t-SNE] Computed conditional probabilities for sample 3000 / 112624\n",
      "[t-SNE] Computed conditional probabilities for sample 4000 / 112624\n",
      "[t-SNE] Computed conditional probabilities for sample 5000 / 112624\n",
      "[t-SNE] Computed conditional probabilities for sample 6000 / 112624\n",
      "[t-SNE] Computed conditional probabilities for sample 7000 / 112624\n",
      "[t-SNE] Computed conditional probabilities for sample 8000 / 112624\n",
      "[t-SNE] Computed conditional probabilities for sample 9000 / 112624\n",
      "[t-SNE] Computed conditional probabilities for sample 10000 / 112624\n",
      "[t-SNE] Computed conditional probabilities for sample 11000 / 112624\n",
      "[t-SNE] Computed conditional probabilities for sample 12000 / 112624\n",
      "[t-SNE] Computed conditional probabilities for sample 13000 / 112624\n",
      "[t-SNE] Computed conditional probabilities for sample 14000 / 112624\n",
      "[t-SNE] Computed conditional probabilities for sample 15000 / 112624\n",
      "[t-SNE] Computed conditional probabilities for sample 16000 / 112624\n",
      "[t-SNE] Computed conditional probabilities for sample 17000 / 112624\n",
      "[t-SNE] Computed conditional probabilities for sample 18000 / 112624\n",
      "[t-SNE] Computed conditional probabilities for sample 19000 / 112624\n",
      "[t-SNE] Computed conditional probabilities for sample 20000 / 112624\n",
      "[t-SNE] Computed conditional probabilities for sample 21000 / 112624\n",
      "[t-SNE] Computed conditional probabilities for sample 22000 / 112624\n",
      "[t-SNE] Computed conditional probabilities for sample 23000 / 112624\n",
      "[t-SNE] Computed conditional probabilities for sample 24000 / 112624\n",
      "[t-SNE] Computed conditional probabilities for sample 25000 / 112624\n",
      "[t-SNE] Computed conditional probabilities for sample 26000 / 112624\n",
      "[t-SNE] Computed conditional probabilities for sample 27000 / 112624\n",
      "[t-SNE] Computed conditional probabilities for sample 28000 / 112624\n",
      "[t-SNE] Computed conditional probabilities for sample 29000 / 112624\n",
      "[t-SNE] Computed conditional probabilities for sample 30000 / 112624\n",
      "[t-SNE] Computed conditional probabilities for sample 31000 / 112624\n",
      "[t-SNE] Computed conditional probabilities for sample 32000 / 112624\n",
      "[t-SNE] Computed conditional probabilities for sample 33000 / 112624\n",
      "[t-SNE] Computed conditional probabilities for sample 34000 / 112624\n",
      "[t-SNE] Computed conditional probabilities for sample 35000 / 112624\n",
      "[t-SNE] Computed conditional probabilities for sample 36000 / 112624\n",
      "[t-SNE] Computed conditional probabilities for sample 37000 / 112624\n",
      "[t-SNE] Computed conditional probabilities for sample 38000 / 112624\n",
      "[t-SNE] Computed conditional probabilities for sample 39000 / 112624\n",
      "[t-SNE] Computed conditional probabilities for sample 40000 / 112624\n",
      "[t-SNE] Computed conditional probabilities for sample 41000 / 112624\n",
      "[t-SNE] Computed conditional probabilities for sample 42000 / 112624\n",
      "[t-SNE] Computed conditional probabilities for sample 43000 / 112624\n",
      "[t-SNE] Computed conditional probabilities for sample 44000 / 112624\n",
      "[t-SNE] Computed conditional probabilities for sample 45000 / 112624\n",
      "[t-SNE] Computed conditional probabilities for sample 46000 / 112624\n",
      "[t-SNE] Computed conditional probabilities for sample 47000 / 112624\n",
      "[t-SNE] Computed conditional probabilities for sample 48000 / 112624\n",
      "[t-SNE] Computed conditional probabilities for sample 49000 / 112624\n",
      "[t-SNE] Computed conditional probabilities for sample 50000 / 112624\n",
      "[t-SNE] Computed conditional probabilities for sample 51000 / 112624\n",
      "[t-SNE] Computed conditional probabilities for sample 52000 / 112624\n",
      "[t-SNE] Computed conditional probabilities for sample 53000 / 112624\n",
      "[t-SNE] Computed conditional probabilities for sample 54000 / 112624\n",
      "[t-SNE] Computed conditional probabilities for sample 55000 / 112624\n",
      "[t-SNE] Computed conditional probabilities for sample 56000 / 112624\n",
      "[t-SNE] Computed conditional probabilities for sample 57000 / 112624\n",
      "[t-SNE] Computed conditional probabilities for sample 58000 / 112624\n",
      "[t-SNE] Computed conditional probabilities for sample 59000 / 112624\n",
      "[t-SNE] Computed conditional probabilities for sample 60000 / 112624\n",
      "[t-SNE] Computed conditional probabilities for sample 61000 / 112624\n",
      "[t-SNE] Computed conditional probabilities for sample 62000 / 112624\n",
      "[t-SNE] Computed conditional probabilities for sample 63000 / 112624\n",
      "[t-SNE] Computed conditional probabilities for sample 64000 / 112624\n",
      "[t-SNE] Computed conditional probabilities for sample 65000 / 112624\n",
      "[t-SNE] Computed conditional probabilities for sample 66000 / 112624\n",
      "[t-SNE] Computed conditional probabilities for sample 67000 / 112624\n",
      "[t-SNE] Computed conditional probabilities for sample 68000 / 112624\n",
      "[t-SNE] Computed conditional probabilities for sample 69000 / 112624\n",
      "[t-SNE] Computed conditional probabilities for sample 70000 / 112624\n",
      "[t-SNE] Computed conditional probabilities for sample 71000 / 112624\n",
      "[t-SNE] Computed conditional probabilities for sample 72000 / 112624\n",
      "[t-SNE] Computed conditional probabilities for sample 73000 / 112624\n",
      "[t-SNE] Computed conditional probabilities for sample 74000 / 112624\n",
      "[t-SNE] Computed conditional probabilities for sample 75000 / 112624\n",
      "[t-SNE] Computed conditional probabilities for sample 76000 / 112624\n",
      "[t-SNE] Computed conditional probabilities for sample 77000 / 112624\n",
      "[t-SNE] Computed conditional probabilities for sample 78000 / 112624\n",
      "[t-SNE] Computed conditional probabilities for sample 79000 / 112624\n",
      "[t-SNE] Computed conditional probabilities for sample 80000 / 112624\n",
      "[t-SNE] Computed conditional probabilities for sample 81000 / 112624\n",
      "[t-SNE] Computed conditional probabilities for sample 82000 / 112624\n",
      "[t-SNE] Computed conditional probabilities for sample 83000 / 112624\n",
      "[t-SNE] Computed conditional probabilities for sample 84000 / 112624\n",
      "[t-SNE] Computed conditional probabilities for sample 85000 / 112624\n",
      "[t-SNE] Computed conditional probabilities for sample 86000 / 112624\n",
      "[t-SNE] Computed conditional probabilities for sample 87000 / 112624\n",
      "[t-SNE] Computed conditional probabilities for sample 88000 / 112624\n",
      "[t-SNE] Computed conditional probabilities for sample 89000 / 112624\n",
      "[t-SNE] Computed conditional probabilities for sample 90000 / 112624\n",
      "[t-SNE] Computed conditional probabilities for sample 91000 / 112624\n",
      "[t-SNE] Computed conditional probabilities for sample 92000 / 112624\n",
      "[t-SNE] Computed conditional probabilities for sample 93000 / 112624\n",
      "[t-SNE] Computed conditional probabilities for sample 94000 / 112624\n",
      "[t-SNE] Computed conditional probabilities for sample 95000 / 112624\n",
      "[t-SNE] Computed conditional probabilities for sample 96000 / 112624\n",
      "[t-SNE] Computed conditional probabilities for sample 97000 / 112624\n",
      "[t-SNE] Computed conditional probabilities for sample 98000 / 112624\n",
      "[t-SNE] Computed conditional probabilities for sample 99000 / 112624\n",
      "[t-SNE] Computed conditional probabilities for sample 100000 / 112624\n",
      "[t-SNE] Computed conditional probabilities for sample 101000 / 112624\n",
      "[t-SNE] Computed conditional probabilities for sample 102000 / 112624\n",
      "[t-SNE] Computed conditional probabilities for sample 103000 / 112624\n",
      "[t-SNE] Computed conditional probabilities for sample 104000 / 112624\n",
      "[t-SNE] Computed conditional probabilities for sample 105000 / 112624\n",
      "[t-SNE] Computed conditional probabilities for sample 106000 / 112624\n",
      "[t-SNE] Computed conditional probabilities for sample 107000 / 112624\n",
      "[t-SNE] Computed conditional probabilities for sample 108000 / 112624\n",
      "[t-SNE] Computed conditional probabilities for sample 109000 / 112624\n",
      "[t-SNE] Computed conditional probabilities for sample 110000 / 112624\n",
      "[t-SNE] Computed conditional probabilities for sample 111000 / 112624\n",
      "[t-SNE] Computed conditional probabilities for sample 112000 / 112624\n",
      "[t-SNE] Computed conditional probabilities for sample 112624 / 112624\n",
      "[t-SNE] Mean sigma: 0.021573\n"
     ]
    }
   ],
   "source": [
    "from time import time\n",
    "t0 = time()\n",
    "classifier = chainer('robust','tsne')\n",
    "well_clusters = data_fit(classifier,well_data.drop(['Well','TD','DTS_I7','DTS_MLFILLED','LITHESA10','LITHESA9_FILTR','LITHESA9_I4', 'LITHESA9_I8', 'LITHESA9_I8I4', 'PHIE_I7', 'PHIE_I8I7', 'PHIE_MLFILLED',  'FLUID', 'Flag_gas', 'Flag_oil', 'Flag_cond'],axis=1))\n",
    "print(time()-t0)"
   ]
  },
  {
   "cell_type": "code",
   "execution_count": null,
   "metadata": {},
   "outputs": [],
   "source": [
    "well_data['Well'].unique()"
   ]
  },
  {
   "cell_type": "code",
   "execution_count": null,
   "metadata": {},
   "outputs": [],
   "source": [
    "well_data_out = well_data.copy()\n",
    "well_data_out['x'] = well_clusters[:,0]\n",
    "well_data_out['y'] = well_clusters[:,1]\n",
    "well_data_out.head()\n",
    "well_data_out.to_pickle(\"5_unlabeled_well_dataframe.pkl\")"
   ]
  },
  {
   "cell_type": "code",
   "execution_count": null,
   "metadata": {},
   "outputs": [],
   "source": [
    "#plot_embedding(well_clusters,'TSNE')\n",
    "fluid_label, uniq = pd.factorize(well_data.FLUID, sort=False)"
   ]
  },
  {
   "cell_type": "code",
   "execution_count": null,
   "metadata": {
    "scrolled": false
   },
   "outputs": [],
   "source": [
    "plt.figure(figsize=(20,15))\n",
    "plt.scatter(well_clusters[:,0],well_clusters[:,1],c=fluid_label)\n",
    "plt.axis('equal')\n",
    "    \n",
    "plt.xticks([]), plt.yticks([])\n",
    "plt.show()"
   ]
  },
  {
   "cell_type": "code",
   "execution_count": null,
   "metadata": {
    "collapsed": true
   },
   "outputs": [],
   "source": [
    "plt.savefig('5_unlabeled_well.png')"
   ]
  },
  {
   "cell_type": "code",
   "execution_count": 44,
   "metadata": {},
   "outputs": [],
   "source": [
    "well_data.to_pickle(\"5_other_wells_p_30_with_pca.pkl\")"
   ]
  },
  {
   "cell_type": "code",
   "execution_count": 32,
   "metadata": {},
   "outputs": [],
   "source": [
    "well_data['cluster'] = np.random.randint(low=0, high=9, size=len(well_data))"
   ]
  },
  {
   "cell_type": "code",
   "execution_count": 34,
   "metadata": {},
   "outputs": [
    {
     "name": "stdout",
     "output_type": "stream",
     "text": [
      "['16_7-10.las' '16_7-11.las' '16_7-5.las' '16_7-6.las' '16_7-9.las']\n"
     ]
    }
   ],
   "source": [
    "import matplotlib.colors as colors\n",
    "from mpl_toolkits.axes_grid1 import make_axes_locatable\n",
    "\n",
    "\n",
    "# 1=sandstone  2=c_siltstone   3=f_siltstone \n",
    "# 4=marine_silt_shale 5=mudstone 6=wackestone 7=dolomite\n",
    "# 8=packstone 9=bafflestone\n",
    "facies_colors = ['#F4D03F', '#F5B041','#DC7633','#6E2C00',\n",
    "       '#1B4F72','#2E86C1', '#AED6F1', '#A569BD', '#196F3D']\n",
    "print(well_data['Well'].unique())\n",
    "facies_labels = ['a', 'b', 'c', 'd', 'e',\n",
    "                 'f', 'g','h', 'i']\n",
    "#facies_color_map is a dictionary that maps facies labels\n",
    "#to their respective colors\n",
    "facies_color_map = {}\n",
    "for ind, label in enumerate(facies_labels):\n",
    "    facies_color_map[label] = facies_colors[ind]\n",
    "\n",
    "def label_facies(row, labels):\n",
    "    return labels[ row['cluster'] -1]\n",
    "    \n",
    "#training_data.loc[:,'cluster'] = training_data.apply(lambda row: label_facies(row, facies_labels), axis=1)\n",
    "\n",
    "def  make_facies_log_plotmake_fa(logs, facies_colors):\n",
    "    #make sure logs are sorted by depth\n",
    "    logs = logs.sort_values(by='TD')\n",
    "    cmap_facies = colors.ListedColormap(\n",
    "            facies_colors[0:len(facies_colors)], 'indexed')\n",
    "    \n",
    "    ztop=logs.TD.min(); zbot=logs.TD.max()\n",
    "    \n",
    "    cluster=np.repeat(np.expand_dims(logs['cluster'].values,1), 100, 1)\n",
    "\n",
    "    f, ax = plt.subplots(nrows=1, ncols=6, figsize=(8, 12))\n",
    "    ax[0].plot(logs.GR, logs.TD, '-g')\n",
    "    ax[1].plot(logs.LITHESA9_I4, logs.TD, '-')\n",
    "    ax[2].plot(logs.LITHESA9_I8I4, logs.TD, '-', color='0.5')\n",
    "    ax[3].plot(logs.RDEP, logs.TD, '-', color='r')\n",
    "    ax[4].plot(logs.RMED, logs.TD, '-', color='black')\n",
    "    im=ax[5].imshow(cluster, interpolation='none', aspect='auto',\n",
    "                    cmap=cmap_facies,vmin=1,vmax=9)\n",
    "    \n",
    "    divider = make_axes_locatable(ax[5])\n",
    "    cax = divider.append_axes(\"right\", size=\"20%\", pad=0.05)\n",
    "    cbar=plt.colorbar(im, cax=cax)\n",
    "    cbar.set_label((17*' ').join([' a ', 'b', 'c', \n",
    "                                'd', ' e ', ' f ', ' g  ', \n",
    "                                ' h ', ' i ']))\n",
    "    cbar.set_ticks(range(0,1)); cbar.set_ticklabels('')\n",
    "    \n",
    "    for i in range(len(ax)-1):\n",
    "        ax[i].set_ylim(ztop,zbot)\n",
    "        ax[i].invert_yaxis()\n",
    "        ax[i].grid()\n",
    "        ax[i].locator_params(axis='x', nbins=3)\n",
    "    \n",
    "    ax[0].set_xlabel(\"GR\")\n",
    "    ax[0].set_xlim(logs.GR.min(),logs.GR.max())\n",
    "    ax[1].set_xlabel(\"LITHESA9_I4\")\n",
    "    ax[1].set_xlim(logs.LITHESA9_I4.min(),logs.LITHESA9_I4.max())\n",
    "    ax[2].set_xlabel(\"LITHESA9_I8I4\")\n",
    "    ax[2].set_xlim(logs.LITHESA9_I8I4.min(),logs.LITHESA9_I8I4.max())\n",
    "    ax[3].set_xlabel(\"RDEP\")\n",
    "    ax[3].set_xlim(logs.RDEP.min(),logs.RDEP.max())\n",
    "    ax[4].set_xlabel(\"RMED\")\n",
    "    ax[4].set_xlim(logs.RMED.min(),logs.RMED.max())\n",
    "    ax[5].set_xlabel('Cluster')\n",
    "    \n",
    "    ax[1].set_yticklabels([]); ax[2].set_yticklabels([]); ax[3].set_yticklabels([])\n",
    "    ax[4].set_yticklabels([]); ax[5].set_yticklabels([])\n",
    "    ax[5].set_xticklabels([])\n",
    "    f.suptitle('Well: %s'%logs.iloc[0]['Well'], fontsize=14,y=0.94)\n",
    "    \n",
    "make_facies_log_plotmake_fa(well_data, facies_colors)"
   ]
  },
  {
   "cell_type": "code",
   "execution_count": 36,
   "metadata": {},
   "outputs": [],
   "source": [
    "import matplotlib.colors as colors\n",
    "from mpl_toolkits.axes_grid1 import make_axes_locatable\n",
    "\n",
    "make_facies_log_plotmake_fa(well_data, facies_colors)"
   ]
  },
  {
   "cell_type": "code",
   "execution_count": 37,
   "metadata": {},
   "outputs": [
    {
     "ename": "ModuleNotFoundError",
     "evalue": "No module named 'petropy'",
     "output_type": "error",
     "traceback": [
      "\u001b[1;31m---------------------------------------------------------------------------\u001b[0m",
      "\u001b[1;31mModuleNotFoundError\u001b[0m                       Traceback (most recent call last)",
      "\u001b[1;32m<ipython-input-37-355b9ecb23e2>\u001b[0m in \u001b[0;36m<module>\u001b[1;34m()\u001b[0m\n\u001b[1;32m----> 1\u001b[1;33m \u001b[1;32mimport\u001b[0m \u001b[0mpetropy\u001b[0m \u001b[1;32mas\u001b[0m \u001b[0mptr\u001b[0m\u001b[1;33m\u001b[0m\u001b[0m\n\u001b[0m\u001b[0;32m      2\u001b[0m \u001b[0mviewer\u001b[0m \u001b[1;33m=\u001b[0m \u001b[0mptr\u001b[0m\u001b[1;33m.\u001b[0m\u001b[0mLogViewer\u001b[0m\u001b[1;33m(\u001b[0m\u001b[0mlog\u001b[0m\u001b[1;33m)\u001b[0m\u001b[1;33m\u001b[0m\u001b[0m\n\u001b[0;32m      3\u001b[0m \u001b[0mviewer\u001b[0m\u001b[1;33m.\u001b[0m\u001b[0mshow\u001b[0m\u001b[1;33m(\u001b[0m\u001b[0medit_mode\u001b[0m \u001b[1;33m=\u001b[0m \u001b[1;32mTrue\u001b[0m\u001b[1;33m)\u001b[0m\u001b[1;33m\u001b[0m\u001b[0m\n\u001b[0;32m      4\u001b[0m \u001b[1;33m\u001b[0m\u001b[0m\n\u001b[0;32m      5\u001b[0m \u001b[1;31m# overwrite log variable with updated log     #\u001b[0m\u001b[1;33m\u001b[0m\u001b[1;33m\u001b[0m\u001b[0m\n",
      "\u001b[1;31mModuleNotFoundError\u001b[0m: No module named 'petropy'"
     ]
    }
   ],
   "source": [
    "import petropy as ptr\n",
    "viewer = ptr.LogViewer(log)\n",
    "viewer.show(edit_mode = True)\n",
    "\n",
    "# overwrite log variable with updated log     #\n",
    "# from LogViewer edits                        #\n",
    "\n",
    "log = viewer.log"
   ]
  }
 ],
 "metadata": {
  "kernelspec": {
   "display_name": "Python [conda env:Anaconda3]",
   "language": "python",
   "name": "conda-env-Anaconda3-py"
  },
  "language_info": {
   "codemirror_mode": {
    "name": "ipython",
    "version": 3
   },
   "file_extension": ".py",
   "mimetype": "text/x-python",
   "name": "python",
   "nbconvert_exporter": "python",
   "pygments_lexer": "ipython3",
   "version": "3.6.3"
  }
 },
 "nbformat": 4,
 "nbformat_minor": 2
}
